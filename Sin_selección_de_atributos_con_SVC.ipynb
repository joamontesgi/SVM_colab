{
  "metadata": {
    "kernelspec": {
      "language": "python",
      "display_name": "Python 3",
      "name": "python3"
    },
    "language_info": {
      "name": "python",
      "version": "3.7.12",
      "mimetype": "text/x-python",
      "codemirror_mode": {
        "name": "ipython",
        "version": 3
      },
      "pygments_lexer": "ipython3",
      "nbconvert_exporter": "python",
      "file_extension": ".py"
    },
    "colab": {
      "name": "Sin selección de atributos con SVC.ipynb",
      "provenance": [],
      "collapsed_sections": [],
      "include_colab_link": true
    }
  },
  "nbformat_minor": 0,
  "nbformat": 4,
  "cells": [
    {
      "cell_type": "markdown",
      "metadata": {
        "id": "view-in-github",
        "colab_type": "text"
      },
      "source": [
        "<a href=\"https://colab.research.google.com/github/joamontesgi/SVM_colab/blob/main/Sin_selecci%C3%B3n_de_atributos_con_SVC.ipynb\" target=\"_parent\"><img src=\"https://colab.research.google.com/assets/colab-badge.svg\" alt=\"Open In Colab\"/></a>"
      ]
    },
    {
      "cell_type": "code",
      "source": [
        "#Drive\n",
        "from google.colab import drive\n",
        "drive.mount('/content/drive')\n",
        "\n",
        "#Cálculo del tiempo\n",
        "!pip install ipython-autotime\n",
        "%load_ext autotime\n",
        "\n",
        "#División en datos de prueba y entrenamiento\n",
        "from sklearn.model_selection import train_test_split\n",
        "\n",
        "# importar clasificador SVC \n",
        "from sklearn.svm import SVC\n",
        "\n",
        "#Clasificador Perceptron multicapa\n",
        "from sklearn.neural_network import MLPClassifier\n",
        "\n",
        "# importar métricas para calcular la precisión\n",
        "from sklearn.metrics import accuracy_score\n",
        "\n",
        "#Pandas y NumPy\n",
        "import numpy as np \n",
        "import pandas as pd\n",
        "\n",
        "#Visualizar matriz de confusión\n",
        "import seaborn as sns\n",
        "import matplotlib.pyplot as plt\n",
        "\n",
        "#Reporte de métricas\n",
        "from sklearn.metrics import classification_report\n",
        "\n",
        "#Métricas valor de confusión\n",
        "from sklearn.metrics import confusion_matrix\n",
        "\n",
        "#Se lee el dataset, el cual tiene 225745 registros\n",
        "new_dataframe = pd.read_csv(\"/content/drive/MyDrive/Data/data.csv\")\n",
        "new_dataframe.shape\n",
        "\n"
      ],
      "metadata": {
        "colab": {
          "base_uri": "https://localhost:8080/"
        },
        "id": "vcw5w1mWSkAG",
        "outputId": "7e8278dc-be3a-4afe-98fb-4e905d322829"
      },
      "execution_count": null,
      "outputs": [
        {
          "output_type": "stream",
          "name": "stdout",
          "text": [
            "Drive already mounted at /content/drive; to attempt to forcibly remount, call drive.mount(\"/content/drive\", force_remount=True).\n",
            "Requirement already satisfied: ipython-autotime in /usr/local/lib/python3.7/dist-packages (0.3.1)\n",
            "Requirement already satisfied: ipython in /usr/local/lib/python3.7/dist-packages (from ipython-autotime) (5.5.0)\n",
            "Requirement already satisfied: pexpect in /usr/local/lib/python3.7/dist-packages (from ipython->ipython-autotime) (4.8.0)\n",
            "Requirement already satisfied: decorator in /usr/local/lib/python3.7/dist-packages (from ipython->ipython-autotime) (4.4.2)\n",
            "Requirement already satisfied: pygments in /usr/local/lib/python3.7/dist-packages (from ipython->ipython-autotime) (2.6.1)\n",
            "Requirement already satisfied: prompt-toolkit<2.0.0,>=1.0.4 in /usr/local/lib/python3.7/dist-packages (from ipython->ipython-autotime) (1.0.18)\n",
            "Requirement already satisfied: setuptools>=18.5 in /usr/local/lib/python3.7/dist-packages (from ipython->ipython-autotime) (57.4.0)\n",
            "Requirement already satisfied: pickleshare in /usr/local/lib/python3.7/dist-packages (from ipython->ipython-autotime) (0.7.5)\n",
            "Requirement already satisfied: traitlets>=4.2 in /usr/local/lib/python3.7/dist-packages (from ipython->ipython-autotime) (5.1.1)\n",
            "Requirement already satisfied: simplegeneric>0.8 in /usr/local/lib/python3.7/dist-packages (from ipython->ipython-autotime) (0.8.1)\n",
            "Requirement already satisfied: wcwidth in /usr/local/lib/python3.7/dist-packages (from prompt-toolkit<2.0.0,>=1.0.4->ipython->ipython-autotime) (0.2.5)\n",
            "Requirement already satisfied: six>=1.9.0 in /usr/local/lib/python3.7/dist-packages (from prompt-toolkit<2.0.0,>=1.0.4->ipython->ipython-autotime) (1.15.0)\n",
            "Requirement already satisfied: ptyprocess>=0.5 in /usr/local/lib/python3.7/dist-packages (from pexpect->ipython->ipython-autotime) (0.7.0)\n"
          ]
        },
        {
          "output_type": "execute_result",
          "data": {
            "text/plain": [
              "(225745, 79)"
            ]
          },
          "metadata": {},
          "execution_count": 1
        },
        {
          "output_type": "stream",
          "name": "stdout",
          "text": [
            "time: 4.64 s (started: 2022-03-29 14:15:37 +00:00)\n"
          ]
        }
      ]
    },
    {
      "cell_type": "code",
      "source": [
        "#Pasando valores infinitos a NaN\n",
        "new_dataframe.replace([np.inf, -np.inf], np.nan, inplace=True) \n",
        "\n",
        "#Eliminando valores NaN\n",
        "new_dataframe=new_dataframe.dropna()\n",
        "valoresNaN = new_dataframe.isnull().sum().sum()\n"
      ],
      "metadata": {
        "_uuid": "8f2839f25d086af736a60e9eeb907d3b93b6e0e5",
        "_cell_guid": "b1076dfc-b9ad-4769-8c92-a6c4dae69d19",
        "execution": {
          "iopub.status.busy": "2022-03-01T04:53:50.873861Z",
          "iopub.execute_input": "2022-03-01T04:53:50.874165Z",
          "iopub.status.idle": "2022-03-01T04:53:53.146594Z",
          "shell.execute_reply.started": "2022-03-01T04:53:50.874085Z",
          "shell.execute_reply": "2022-03-01T04:53:53.145827Z"
        },
        "trusted": true,
        "id": "rCxwPfPG_yM6",
        "colab": {
          "base_uri": "https://localhost:8080/"
        },
        "outputId": "5dd9641a-f776-492f-cf7b-a95e91494eed"
      },
      "execution_count": null,
      "outputs": [
        {
          "output_type": "stream",
          "name": "stdout",
          "text": [
            "time: 302 ms (started: 2022-03-29 14:15:42 +00:00)\n"
          ]
        }
      ]
    },
    {
      "cell_type": "code",
      "source": [
        "new_dataframe.shape"
      ],
      "metadata": {
        "colab": {
          "base_uri": "https://localhost:8080/"
        },
        "id": "O73r1tpGUzIE",
        "outputId": "e7e87747-4dd3-45e8-82d2-e8a91ec182a8"
      },
      "execution_count": null,
      "outputs": [
        {
          "output_type": "execute_result",
          "data": {
            "text/plain": [
              "(225711, 79)"
            ]
          },
          "metadata": {},
          "execution_count": 3
        },
        {
          "output_type": "stream",
          "name": "stdout",
          "text": [
            "time: 7.43 ms (started: 2022-03-29 14:15:42 +00:00)\n"
          ]
        }
      ]
    },
    {
      "cell_type": "markdown",
      "source": [
        ""
      ],
      "metadata": {
        "id": "bb6STeki_yNF"
      }
    },
    {
      "cell_type": "code",
      "source": [
        "#Se reemplazan valores en la columna de salida. \n",
        "\n",
        "#Ataque DDoS = 0\n",
        "new_dataframe[' Label'] = new_dataframe[' Label'].replace('DDoS',0)\n",
        "\n",
        "#Tráfico benigno = 1\n",
        "new_dataframe[' Label'] = new_dataframe[' Label'].replace('BENIGN',1)\n",
        "\n",
        "#Columna de salida\n",
        "y = (new_dataframe[' Label'])\n",
        "\n",
        "#Columnas de entrada\n",
        "X = new_dataframe.iloc[:,0:-1]"
      ],
      "metadata": {
        "execution": {
          "iopub.status.busy": "2022-03-01T04:53:53.149126Z",
          "iopub.execute_input": "2022-03-01T04:53:53.149644Z",
          "iopub.status.idle": "2022-03-01T04:53:53.217468Z",
          "shell.execute_reply.started": "2022-03-01T04:53:53.149607Z",
          "shell.execute_reply": "2022-03-01T04:53:53.216761Z"
        },
        "trusted": true,
        "id": "b4xQHWXe_yNJ",
        "colab": {
          "base_uri": "https://localhost:8080/"
        },
        "outputId": "a3981a2c-aabd-46d9-82c7-44efa4b70861"
      },
      "execution_count": null,
      "outputs": [
        {
          "output_type": "stream",
          "name": "stdout",
          "text": [
            "time: 209 ms (started: 2022-03-29 14:15:42 +00:00)\n"
          ]
        },
        {
          "output_type": "stream",
          "name": "stderr",
          "text": [
            "/usr/local/lib/python3.7/dist-packages/ipykernel_launcher.py:4: SettingWithCopyWarning: \n",
            "A value is trying to be set on a copy of a slice from a DataFrame.\n",
            "Try using .loc[row_indexer,col_indexer] = value instead\n",
            "\n",
            "See the caveats in the documentation: https://pandas.pydata.org/pandas-docs/stable/user_guide/indexing.html#returning-a-view-versus-a-copy\n",
            "  after removing the cwd from sys.path.\n"
          ]
        }
      ]
    },
    {
      "cell_type": "code",
      "source": [
        "X.shape"
      ],
      "metadata": {
        "colab": {
          "base_uri": "https://localhost:8080/"
        },
        "id": "hWZzOIdCxRGn",
        "outputId": "c8ef63c6-62da-4704-dc37-0c6148fe70da"
      },
      "execution_count": null,
      "outputs": [
        {
          "output_type": "execute_result",
          "data": {
            "text/plain": [
              "(225711, 78)"
            ]
          },
          "metadata": {},
          "execution_count": 5
        },
        {
          "output_type": "stream",
          "name": "stdout",
          "text": [
            "time: 3.33 ms (started: 2022-03-29 14:15:43 +00:00)\n"
          ]
        }
      ]
    },
    {
      "cell_type": "code",
      "source": [
        "y.shape"
      ],
      "metadata": {
        "colab": {
          "base_uri": "https://localhost:8080/"
        },
        "id": "N58OXQP7xUS1",
        "outputId": "bfa4c26d-9575-4a67-b79e-354df8712d44"
      },
      "execution_count": null,
      "outputs": [
        {
          "output_type": "execute_result",
          "data": {
            "text/plain": [
              "(225711,)"
            ]
          },
          "metadata": {},
          "execution_count": 6
        },
        {
          "output_type": "stream",
          "name": "stdout",
          "text": [
            "time: 6.06 ms (started: 2022-03-29 14:15:43 +00:00)\n"
          ]
        }
      ]
    },
    {
      "cell_type": "code",
      "source": [
        "#new_dataframe = new_dataframe.replace([np.inf, -np.inf], np.nan).dropna(axis=1)\n"
      ],
      "metadata": {
        "execution": {
          "iopub.status.busy": "2022-03-01T04:53:53.218707Z",
          "iopub.execute_input": "2022-03-01T04:53:53.218986Z",
          "iopub.status.idle": "2022-03-01T04:53:53.248233Z",
          "shell.execute_reply.started": "2022-03-01T04:53:53.218953Z",
          "shell.execute_reply": "2022-03-01T04:53:53.247518Z"
        },
        "trusted": true,
        "id": "7cJj4Kmn_yNL",
        "colab": {
          "base_uri": "https://localhost:8080/"
        },
        "outputId": "724cf46b-1e27-4cf3-aa11-0a3ba9eaa898"
      },
      "execution_count": null,
      "outputs": [
        {
          "output_type": "stream",
          "name": "stdout",
          "text": [
            "time: 819 µs (started: 2022-03-29 14:15:43 +00:00)\n"
          ]
        }
      ]
    },
    {
      "cell_type": "code",
      "source": [
        "#new_dataframe = new_dataframe.iloc[:,0:-1]"
      ],
      "metadata": {
        "execution": {
          "iopub.status.busy": "2022-03-01T04:53:53.250240Z",
          "iopub.execute_input": "2022-03-01T04:53:53.250575Z",
          "iopub.status.idle": "2022-03-01T04:53:53.261334Z",
          "shell.execute_reply.started": "2022-03-01T04:53:53.250537Z",
          "shell.execute_reply": "2022-03-01T04:53:53.260487Z"
        },
        "trusted": true,
        "id": "gkuVSY1y_yNM",
        "colab": {
          "base_uri": "https://localhost:8080/"
        },
        "outputId": "067ac354-b0ed-417a-f734-b662a389b5de"
      },
      "execution_count": null,
      "outputs": [
        {
          "output_type": "stream",
          "name": "stdout",
          "text": [
            "time: 793 µs (started: 2022-03-29 14:15:43 +00:00)\n"
          ]
        }
      ]
    },
    {
      "cell_type": "code",
      "source": [
        "print(len(y))\n",
        "print(len(X))"
      ],
      "metadata": {
        "execution": {
          "iopub.status.busy": "2022-03-01T04:53:53.262761Z",
          "iopub.execute_input": "2022-03-01T04:53:53.263174Z",
          "iopub.status.idle": "2022-03-01T04:53:53.270180Z",
          "shell.execute_reply.started": "2022-03-01T04:53:53.263137Z",
          "shell.execute_reply": "2022-03-01T04:53:53.269480Z"
        },
        "trusted": true,
        "id": "4vwOLB45_yNN",
        "colab": {
          "base_uri": "https://localhost:8080/"
        },
        "outputId": "568d42eb-1355-4720-e7df-974db1581128"
      },
      "execution_count": null,
      "outputs": [
        {
          "output_type": "stream",
          "name": "stdout",
          "text": [
            "225711\n",
            "225711\n",
            "time: 1.47 ms (started: 2022-03-29 14:15:43 +00:00)\n"
          ]
        }
      ]
    },
    {
      "cell_type": "code",
      "source": [
        "X.shape"
      ],
      "metadata": {
        "colab": {
          "base_uri": "https://localhost:8080/"
        },
        "id": "Jb_ZIKLawifc",
        "outputId": "09bf09a0-656d-49dc-dc9b-536ec9fe2b10"
      },
      "execution_count": null,
      "outputs": [
        {
          "output_type": "execute_result",
          "data": {
            "text/plain": [
              "(225711, 78)"
            ]
          },
          "metadata": {},
          "execution_count": 10
        },
        {
          "output_type": "stream",
          "name": "stdout",
          "text": [
            "time: 4.6 ms (started: 2022-03-29 14:15:43 +00:00)\n"
          ]
        }
      ]
    },
    {
      "cell_type": "code",
      "source": [
        "y.shape"
      ],
      "metadata": {
        "colab": {
          "base_uri": "https://localhost:8080/"
        },
        "id": "aZrlH76owkAT",
        "outputId": "ffc9fce8-582b-42dd-8bd6-a646df04ff98"
      },
      "execution_count": null,
      "outputs": [
        {
          "output_type": "execute_result",
          "data": {
            "text/plain": [
              "(225711,)"
            ]
          },
          "metadata": {},
          "execution_count": 11
        },
        {
          "output_type": "stream",
          "name": "stdout",
          "text": [
            "time: 3.95 ms (started: 2022-03-29 14:15:43 +00:00)\n"
          ]
        }
      ]
    },
    {
      "cell_type": "code",
      "source": [
        "#75% para entrenamiento, 25% para prueba\n",
        "X_train, X_test, y_train, y_test = train_test_split(X, y, test_size = 0.25, random_state = 0)\n",
        "\n",
        "print('El total de registros de x para entrenamiento es :',(len(X_train)))\n",
        "print('El total de registros de y para entrenamiento es :',(len(y_train)))\n",
        "print('El total de registros de x para prueba es :',(len(X_test)))\n",
        "print('El total de registros de y para prueba :',(len(y_test)))"
      ],
      "metadata": {
        "execution": {
          "iopub.status.busy": "2022-03-01T04:53:53.271607Z",
          "iopub.execute_input": "2022-03-01T04:53:53.272204Z",
          "iopub.status.idle": "2022-03-01T04:53:54.142679Z",
          "shell.execute_reply.started": "2022-03-01T04:53:53.272166Z",
          "shell.execute_reply": "2022-03-01T04:53:54.141890Z"
        },
        "trusted": true,
        "id": "tStiKs6q_yNO",
        "colab": {
          "base_uri": "https://localhost:8080/"
        },
        "outputId": "ccd5995a-22cc-4a04-ceec-a621abf2cfb6"
      },
      "execution_count": null,
      "outputs": [
        {
          "output_type": "stream",
          "name": "stdout",
          "text": [
            "El total de registros de x para entrenamiento es : 169283\n",
            "El total de registros de y para entrenamiento es : 169283\n",
            "El total de registros de x para prueba es : 56428\n",
            "El total de registros de y para prueba : 56428\n",
            "time: 242 ms (started: 2022-03-29 14:15:43 +00:00)\n"
          ]
        }
      ]
    },
    {
      "cell_type": "code",
      "source": [
        "#Se verifica la existencia de valores NaN\n",
        "check_for_nan = new_dataframe.isnull().any().any()\n",
        "print(check_for_nan)\n",
        "d = np.isfinite(new_dataframe)\n",
        "display(d)"
      ],
      "metadata": {
        "execution": {
          "iopub.status.busy": "2022-03-01T04:53:54.143870Z",
          "iopub.execute_input": "2022-03-01T04:53:54.144099Z",
          "iopub.status.idle": "2022-03-01T04:53:54.183683Z",
          "shell.execute_reply.started": "2022-03-01T04:53:54.144065Z",
          "shell.execute_reply": "2022-03-01T04:53:54.182990Z"
        },
        "trusted": true,
        "id": "BLT9-980_yNP",
        "colab": {
          "base_uri": "https://localhost:8080/",
          "height": 574
        },
        "outputId": "e99965df-5eae-46c0-cce6-4375317455b4"
      },
      "execution_count": null,
      "outputs": [
        {
          "output_type": "stream",
          "name": "stdout",
          "text": [
            "False\n"
          ]
        },
        {
          "output_type": "display_data",
          "data": {
            "text/plain": [
              "         Destination Port   Flow Duration   Total Fwd Packets  \\\n",
              "0                    True            True                True   \n",
              "1                    True            True                True   \n",
              "2                    True            True                True   \n",
              "3                    True            True                True   \n",
              "4                    True            True                True   \n",
              "...                   ...             ...                 ...   \n",
              "225740               True            True                True   \n",
              "225741               True            True                True   \n",
              "225742               True            True                True   \n",
              "225743               True            True                True   \n",
              "225744               True            True                True   \n",
              "\n",
              "         Total Backward Packets  Total Length of Fwd Packets  \\\n",
              "0                          True                         True   \n",
              "1                          True                         True   \n",
              "2                          True                         True   \n",
              "3                          True                         True   \n",
              "4                          True                         True   \n",
              "...                         ...                          ...   \n",
              "225740                     True                         True   \n",
              "225741                     True                         True   \n",
              "225742                     True                         True   \n",
              "225743                     True                         True   \n",
              "225744                     True                         True   \n",
              "\n",
              "         Total Length of Bwd Packets   Fwd Packet Length Max  \\\n",
              "0                               True                    True   \n",
              "1                               True                    True   \n",
              "2                               True                    True   \n",
              "3                               True                    True   \n",
              "4                               True                    True   \n",
              "...                              ...                     ...   \n",
              "225740                          True                    True   \n",
              "225741                          True                    True   \n",
              "225742                          True                    True   \n",
              "225743                          True                    True   \n",
              "225744                          True                    True   \n",
              "\n",
              "         Fwd Packet Length Min   Fwd Packet Length Mean  \\\n",
              "0                         True                     True   \n",
              "1                         True                     True   \n",
              "2                         True                     True   \n",
              "3                         True                     True   \n",
              "4                         True                     True   \n",
              "...                        ...                      ...   \n",
              "225740                    True                     True   \n",
              "225741                    True                     True   \n",
              "225742                    True                     True   \n",
              "225743                    True                     True   \n",
              "225744                    True                     True   \n",
              "\n",
              "         Fwd Packet Length Std  ...   min_seg_size_forward  Active Mean  \\\n",
              "0                         True  ...                   True         True   \n",
              "1                         True  ...                   True         True   \n",
              "2                         True  ...                   True         True   \n",
              "3                         True  ...                   True         True   \n",
              "4                         True  ...                   True         True   \n",
              "...                        ...  ...                    ...          ...   \n",
              "225740                    True  ...                   True         True   \n",
              "225741                    True  ...                   True         True   \n",
              "225742                    True  ...                   True         True   \n",
              "225743                    True  ...                   True         True   \n",
              "225744                    True  ...                   True         True   \n",
              "\n",
              "         Active Std   Active Max   Active Min  Idle Mean   Idle Std  \\\n",
              "0              True         True         True       True       True   \n",
              "1              True         True         True       True       True   \n",
              "2              True         True         True       True       True   \n",
              "3              True         True         True       True       True   \n",
              "4              True         True         True       True       True   \n",
              "...             ...          ...          ...        ...        ...   \n",
              "225740         True         True         True       True       True   \n",
              "225741         True         True         True       True       True   \n",
              "225742         True         True         True       True       True   \n",
              "225743         True         True         True       True       True   \n",
              "225744         True         True         True       True       True   \n",
              "\n",
              "         Idle Max   Idle Min   Label  \n",
              "0            True       True    True  \n",
              "1            True       True    True  \n",
              "2            True       True    True  \n",
              "3            True       True    True  \n",
              "4            True       True    True  \n",
              "...           ...        ...     ...  \n",
              "225740       True       True    True  \n",
              "225741       True       True    True  \n",
              "225742       True       True    True  \n",
              "225743       True       True    True  \n",
              "225744       True       True    True  \n",
              "\n",
              "[225711 rows x 79 columns]"
            ],
            "text/html": [
              "\n",
              "  <div id=\"df-2d9a2576-aafe-45d4-92f5-57de9cca4a97\">\n",
              "    <div class=\"colab-df-container\">\n",
              "      <div>\n",
              "<style scoped>\n",
              "    .dataframe tbody tr th:only-of-type {\n",
              "        vertical-align: middle;\n",
              "    }\n",
              "\n",
              "    .dataframe tbody tr th {\n",
              "        vertical-align: top;\n",
              "    }\n",
              "\n",
              "    .dataframe thead th {\n",
              "        text-align: right;\n",
              "    }\n",
              "</style>\n",
              "<table border=\"1\" class=\"dataframe\">\n",
              "  <thead>\n",
              "    <tr style=\"text-align: right;\">\n",
              "      <th></th>\n",
              "      <th>Destination Port</th>\n",
              "      <th>Flow Duration</th>\n",
              "      <th>Total Fwd Packets</th>\n",
              "      <th>Total Backward Packets</th>\n",
              "      <th>Total Length of Fwd Packets</th>\n",
              "      <th>Total Length of Bwd Packets</th>\n",
              "      <th>Fwd Packet Length Max</th>\n",
              "      <th>Fwd Packet Length Min</th>\n",
              "      <th>Fwd Packet Length Mean</th>\n",
              "      <th>Fwd Packet Length Std</th>\n",
              "      <th>...</th>\n",
              "      <th>min_seg_size_forward</th>\n",
              "      <th>Active Mean</th>\n",
              "      <th>Active Std</th>\n",
              "      <th>Active Max</th>\n",
              "      <th>Active Min</th>\n",
              "      <th>Idle Mean</th>\n",
              "      <th>Idle Std</th>\n",
              "      <th>Idle Max</th>\n",
              "      <th>Idle Min</th>\n",
              "      <th>Label</th>\n",
              "    </tr>\n",
              "  </thead>\n",
              "  <tbody>\n",
              "    <tr>\n",
              "      <th>0</th>\n",
              "      <td>True</td>\n",
              "      <td>True</td>\n",
              "      <td>True</td>\n",
              "      <td>True</td>\n",
              "      <td>True</td>\n",
              "      <td>True</td>\n",
              "      <td>True</td>\n",
              "      <td>True</td>\n",
              "      <td>True</td>\n",
              "      <td>True</td>\n",
              "      <td>...</td>\n",
              "      <td>True</td>\n",
              "      <td>True</td>\n",
              "      <td>True</td>\n",
              "      <td>True</td>\n",
              "      <td>True</td>\n",
              "      <td>True</td>\n",
              "      <td>True</td>\n",
              "      <td>True</td>\n",
              "      <td>True</td>\n",
              "      <td>True</td>\n",
              "    </tr>\n",
              "    <tr>\n",
              "      <th>1</th>\n",
              "      <td>True</td>\n",
              "      <td>True</td>\n",
              "      <td>True</td>\n",
              "      <td>True</td>\n",
              "      <td>True</td>\n",
              "      <td>True</td>\n",
              "      <td>True</td>\n",
              "      <td>True</td>\n",
              "      <td>True</td>\n",
              "      <td>True</td>\n",
              "      <td>...</td>\n",
              "      <td>True</td>\n",
              "      <td>True</td>\n",
              "      <td>True</td>\n",
              "      <td>True</td>\n",
              "      <td>True</td>\n",
              "      <td>True</td>\n",
              "      <td>True</td>\n",
              "      <td>True</td>\n",
              "      <td>True</td>\n",
              "      <td>True</td>\n",
              "    </tr>\n",
              "    <tr>\n",
              "      <th>2</th>\n",
              "      <td>True</td>\n",
              "      <td>True</td>\n",
              "      <td>True</td>\n",
              "      <td>True</td>\n",
              "      <td>True</td>\n",
              "      <td>True</td>\n",
              "      <td>True</td>\n",
              "      <td>True</td>\n",
              "      <td>True</td>\n",
              "      <td>True</td>\n",
              "      <td>...</td>\n",
              "      <td>True</td>\n",
              "      <td>True</td>\n",
              "      <td>True</td>\n",
              "      <td>True</td>\n",
              "      <td>True</td>\n",
              "      <td>True</td>\n",
              "      <td>True</td>\n",
              "      <td>True</td>\n",
              "      <td>True</td>\n",
              "      <td>True</td>\n",
              "    </tr>\n",
              "    <tr>\n",
              "      <th>3</th>\n",
              "      <td>True</td>\n",
              "      <td>True</td>\n",
              "      <td>True</td>\n",
              "      <td>True</td>\n",
              "      <td>True</td>\n",
              "      <td>True</td>\n",
              "      <td>True</td>\n",
              "      <td>True</td>\n",
              "      <td>True</td>\n",
              "      <td>True</td>\n",
              "      <td>...</td>\n",
              "      <td>True</td>\n",
              "      <td>True</td>\n",
              "      <td>True</td>\n",
              "      <td>True</td>\n",
              "      <td>True</td>\n",
              "      <td>True</td>\n",
              "      <td>True</td>\n",
              "      <td>True</td>\n",
              "      <td>True</td>\n",
              "      <td>True</td>\n",
              "    </tr>\n",
              "    <tr>\n",
              "      <th>4</th>\n",
              "      <td>True</td>\n",
              "      <td>True</td>\n",
              "      <td>True</td>\n",
              "      <td>True</td>\n",
              "      <td>True</td>\n",
              "      <td>True</td>\n",
              "      <td>True</td>\n",
              "      <td>True</td>\n",
              "      <td>True</td>\n",
              "      <td>True</td>\n",
              "      <td>...</td>\n",
              "      <td>True</td>\n",
              "      <td>True</td>\n",
              "      <td>True</td>\n",
              "      <td>True</td>\n",
              "      <td>True</td>\n",
              "      <td>True</td>\n",
              "      <td>True</td>\n",
              "      <td>True</td>\n",
              "      <td>True</td>\n",
              "      <td>True</td>\n",
              "    </tr>\n",
              "    <tr>\n",
              "      <th>...</th>\n",
              "      <td>...</td>\n",
              "      <td>...</td>\n",
              "      <td>...</td>\n",
              "      <td>...</td>\n",
              "      <td>...</td>\n",
              "      <td>...</td>\n",
              "      <td>...</td>\n",
              "      <td>...</td>\n",
              "      <td>...</td>\n",
              "      <td>...</td>\n",
              "      <td>...</td>\n",
              "      <td>...</td>\n",
              "      <td>...</td>\n",
              "      <td>...</td>\n",
              "      <td>...</td>\n",
              "      <td>...</td>\n",
              "      <td>...</td>\n",
              "      <td>...</td>\n",
              "      <td>...</td>\n",
              "      <td>...</td>\n",
              "      <td>...</td>\n",
              "    </tr>\n",
              "    <tr>\n",
              "      <th>225740</th>\n",
              "      <td>True</td>\n",
              "      <td>True</td>\n",
              "      <td>True</td>\n",
              "      <td>True</td>\n",
              "      <td>True</td>\n",
              "      <td>True</td>\n",
              "      <td>True</td>\n",
              "      <td>True</td>\n",
              "      <td>True</td>\n",
              "      <td>True</td>\n",
              "      <td>...</td>\n",
              "      <td>True</td>\n",
              "      <td>True</td>\n",
              "      <td>True</td>\n",
              "      <td>True</td>\n",
              "      <td>True</td>\n",
              "      <td>True</td>\n",
              "      <td>True</td>\n",
              "      <td>True</td>\n",
              "      <td>True</td>\n",
              "      <td>True</td>\n",
              "    </tr>\n",
              "    <tr>\n",
              "      <th>225741</th>\n",
              "      <td>True</td>\n",
              "      <td>True</td>\n",
              "      <td>True</td>\n",
              "      <td>True</td>\n",
              "      <td>True</td>\n",
              "      <td>True</td>\n",
              "      <td>True</td>\n",
              "      <td>True</td>\n",
              "      <td>True</td>\n",
              "      <td>True</td>\n",
              "      <td>...</td>\n",
              "      <td>True</td>\n",
              "      <td>True</td>\n",
              "      <td>True</td>\n",
              "      <td>True</td>\n",
              "      <td>True</td>\n",
              "      <td>True</td>\n",
              "      <td>True</td>\n",
              "      <td>True</td>\n",
              "      <td>True</td>\n",
              "      <td>True</td>\n",
              "    </tr>\n",
              "    <tr>\n",
              "      <th>225742</th>\n",
              "      <td>True</td>\n",
              "      <td>True</td>\n",
              "      <td>True</td>\n",
              "      <td>True</td>\n",
              "      <td>True</td>\n",
              "      <td>True</td>\n",
              "      <td>True</td>\n",
              "      <td>True</td>\n",
              "      <td>True</td>\n",
              "      <td>True</td>\n",
              "      <td>...</td>\n",
              "      <td>True</td>\n",
              "      <td>True</td>\n",
              "      <td>True</td>\n",
              "      <td>True</td>\n",
              "      <td>True</td>\n",
              "      <td>True</td>\n",
              "      <td>True</td>\n",
              "      <td>True</td>\n",
              "      <td>True</td>\n",
              "      <td>True</td>\n",
              "    </tr>\n",
              "    <tr>\n",
              "      <th>225743</th>\n",
              "      <td>True</td>\n",
              "      <td>True</td>\n",
              "      <td>True</td>\n",
              "      <td>True</td>\n",
              "      <td>True</td>\n",
              "      <td>True</td>\n",
              "      <td>True</td>\n",
              "      <td>True</td>\n",
              "      <td>True</td>\n",
              "      <td>True</td>\n",
              "      <td>...</td>\n",
              "      <td>True</td>\n",
              "      <td>True</td>\n",
              "      <td>True</td>\n",
              "      <td>True</td>\n",
              "      <td>True</td>\n",
              "      <td>True</td>\n",
              "      <td>True</td>\n",
              "      <td>True</td>\n",
              "      <td>True</td>\n",
              "      <td>True</td>\n",
              "    </tr>\n",
              "    <tr>\n",
              "      <th>225744</th>\n",
              "      <td>True</td>\n",
              "      <td>True</td>\n",
              "      <td>True</td>\n",
              "      <td>True</td>\n",
              "      <td>True</td>\n",
              "      <td>True</td>\n",
              "      <td>True</td>\n",
              "      <td>True</td>\n",
              "      <td>True</td>\n",
              "      <td>True</td>\n",
              "      <td>...</td>\n",
              "      <td>True</td>\n",
              "      <td>True</td>\n",
              "      <td>True</td>\n",
              "      <td>True</td>\n",
              "      <td>True</td>\n",
              "      <td>True</td>\n",
              "      <td>True</td>\n",
              "      <td>True</td>\n",
              "      <td>True</td>\n",
              "      <td>True</td>\n",
              "    </tr>\n",
              "  </tbody>\n",
              "</table>\n",
              "<p>225711 rows × 79 columns</p>\n",
              "</div>\n",
              "      <button class=\"colab-df-convert\" onclick=\"convertToInteractive('df-2d9a2576-aafe-45d4-92f5-57de9cca4a97')\"\n",
              "              title=\"Convert this dataframe to an interactive table.\"\n",
              "              style=\"display:none;\">\n",
              "        \n",
              "  <svg xmlns=\"http://www.w3.org/2000/svg\" height=\"24px\"viewBox=\"0 0 24 24\"\n",
              "       width=\"24px\">\n",
              "    <path d=\"M0 0h24v24H0V0z\" fill=\"none\"/>\n",
              "    <path d=\"M18.56 5.44l.94 2.06.94-2.06 2.06-.94-2.06-.94-.94-2.06-.94 2.06-2.06.94zm-11 1L8.5 8.5l.94-2.06 2.06-.94-2.06-.94L8.5 2.5l-.94 2.06-2.06.94zm10 10l.94 2.06.94-2.06 2.06-.94-2.06-.94-.94-2.06-.94 2.06-2.06.94z\"/><path d=\"M17.41 7.96l-1.37-1.37c-.4-.4-.92-.59-1.43-.59-.52 0-1.04.2-1.43.59L10.3 9.45l-7.72 7.72c-.78.78-.78 2.05 0 2.83L4 21.41c.39.39.9.59 1.41.59.51 0 1.02-.2 1.41-.59l7.78-7.78 2.81-2.81c.8-.78.8-2.07 0-2.86zM5.41 20L4 18.59l7.72-7.72 1.47 1.35L5.41 20z\"/>\n",
              "  </svg>\n",
              "      </button>\n",
              "      \n",
              "  <style>\n",
              "    .colab-df-container {\n",
              "      display:flex;\n",
              "      flex-wrap:wrap;\n",
              "      gap: 12px;\n",
              "    }\n",
              "\n",
              "    .colab-df-convert {\n",
              "      background-color: #E8F0FE;\n",
              "      border: none;\n",
              "      border-radius: 50%;\n",
              "      cursor: pointer;\n",
              "      display: none;\n",
              "      fill: #1967D2;\n",
              "      height: 32px;\n",
              "      padding: 0 0 0 0;\n",
              "      width: 32px;\n",
              "    }\n",
              "\n",
              "    .colab-df-convert:hover {\n",
              "      background-color: #E2EBFA;\n",
              "      box-shadow: 0px 1px 2px rgba(60, 64, 67, 0.3), 0px 1px 3px 1px rgba(60, 64, 67, 0.15);\n",
              "      fill: #174EA6;\n",
              "    }\n",
              "\n",
              "    [theme=dark] .colab-df-convert {\n",
              "      background-color: #3B4455;\n",
              "      fill: #D2E3FC;\n",
              "    }\n",
              "\n",
              "    [theme=dark] .colab-df-convert:hover {\n",
              "      background-color: #434B5C;\n",
              "      box-shadow: 0px 1px 3px 1px rgba(0, 0, 0, 0.15);\n",
              "      filter: drop-shadow(0px 1px 2px rgba(0, 0, 0, 0.3));\n",
              "      fill: #FFFFFF;\n",
              "    }\n",
              "  </style>\n",
              "\n",
              "      <script>\n",
              "        const buttonEl =\n",
              "          document.querySelector('#df-2d9a2576-aafe-45d4-92f5-57de9cca4a97 button.colab-df-convert');\n",
              "        buttonEl.style.display =\n",
              "          google.colab.kernel.accessAllowed ? 'block' : 'none';\n",
              "\n",
              "        async function convertToInteractive(key) {\n",
              "          const element = document.querySelector('#df-2d9a2576-aafe-45d4-92f5-57de9cca4a97');\n",
              "          const dataTable =\n",
              "            await google.colab.kernel.invokeFunction('convertToInteractive',\n",
              "                                                     [key], {});\n",
              "          if (!dataTable) return;\n",
              "\n",
              "          const docLinkHtml = 'Like what you see? Visit the ' +\n",
              "            '<a target=\"_blank\" href=https://colab.research.google.com/notebooks/data_table.ipynb>data table notebook</a>'\n",
              "            + ' to learn more about interactive tables.';\n",
              "          element.innerHTML = '';\n",
              "          dataTable['output_type'] = 'display_data';\n",
              "          await google.colab.output.renderOutput(dataTable, element);\n",
              "          const docLink = document.createElement('div');\n",
              "          docLink.innerHTML = docLinkHtml;\n",
              "          element.appendChild(docLink);\n",
              "        }\n",
              "      </script>\n",
              "    </div>\n",
              "  </div>\n",
              "  "
            ]
          },
          "metadata": {}
        },
        {
          "output_type": "stream",
          "name": "stdout",
          "text": [
            "time: 127 ms (started: 2022-03-29 14:15:43 +00:00)\n"
          ]
        }
      ]
    },
    {
      "cell_type": "code",
      "source": [
        "#Mostrando columnas del dataset\n",
        "col_names = new_dataframe.columns\n",
        "col_names"
      ],
      "metadata": {
        "execution": {
          "iopub.status.busy": "2022-03-01T04:53:54.185069Z",
          "iopub.execute_input": "2022-03-01T04:53:54.185560Z",
          "iopub.status.idle": "2022-03-01T04:53:54.192246Z",
          "shell.execute_reply.started": "2022-03-01T04:53:54.185499Z",
          "shell.execute_reply": "2022-03-01T04:53:54.191362Z"
        },
        "trusted": true,
        "id": "5WO18D1R_yNR",
        "colab": {
          "base_uri": "https://localhost:8080/"
        },
        "outputId": "2bf2d059-c920-4772-b1a3-fac04697fd8c"
      },
      "execution_count": null,
      "outputs": [
        {
          "output_type": "execute_result",
          "data": {
            "text/plain": [
              "Index([' Destination Port', ' Flow Duration', ' Total Fwd Packets',\n",
              "       ' Total Backward Packets', 'Total Length of Fwd Packets',\n",
              "       ' Total Length of Bwd Packets', ' Fwd Packet Length Max',\n",
              "       ' Fwd Packet Length Min', ' Fwd Packet Length Mean',\n",
              "       ' Fwd Packet Length Std', 'Bwd Packet Length Max',\n",
              "       ' Bwd Packet Length Min', ' Bwd Packet Length Mean',\n",
              "       ' Bwd Packet Length Std', 'Flow Bytes/s', ' Flow Packets/s',\n",
              "       ' Flow IAT Mean', ' Flow IAT Std', ' Flow IAT Max', ' Flow IAT Min',\n",
              "       'Fwd IAT Total', ' Fwd IAT Mean', ' Fwd IAT Std', ' Fwd IAT Max',\n",
              "       ' Fwd IAT Min', 'Bwd IAT Total', ' Bwd IAT Mean', ' Bwd IAT Std',\n",
              "       ' Bwd IAT Max', ' Bwd IAT Min', 'Fwd PSH Flags', ' Bwd PSH Flags',\n",
              "       ' Fwd URG Flags', ' Bwd URG Flags', ' Fwd Header Length',\n",
              "       ' Bwd Header Length', 'Fwd Packets/s', ' Bwd Packets/s',\n",
              "       ' Min Packet Length', ' Max Packet Length', ' Packet Length Mean',\n",
              "       ' Packet Length Std', ' Packet Length Variance', 'FIN Flag Count',\n",
              "       ' SYN Flag Count', ' RST Flag Count', ' PSH Flag Count',\n",
              "       ' ACK Flag Count', ' URG Flag Count', ' CWE Flag Count',\n",
              "       ' ECE Flag Count', ' Down/Up Ratio', ' Average Packet Size',\n",
              "       ' Avg Fwd Segment Size', ' Avg Bwd Segment Size',\n",
              "       ' Fwd Header Length.1', 'Fwd Avg Bytes/Bulk', ' Fwd Avg Packets/Bulk',\n",
              "       ' Fwd Avg Bulk Rate', ' Bwd Avg Bytes/Bulk', ' Bwd Avg Packets/Bulk',\n",
              "       'Bwd Avg Bulk Rate', 'Subflow Fwd Packets', ' Subflow Fwd Bytes',\n",
              "       ' Subflow Bwd Packets', ' Subflow Bwd Bytes', 'Init_Win_bytes_forward',\n",
              "       ' Init_Win_bytes_backward', ' act_data_pkt_fwd',\n",
              "       ' min_seg_size_forward', 'Active Mean', ' Active Std', ' Active Max',\n",
              "       ' Active Min', 'Idle Mean', ' Idle Std', ' Idle Max', ' Idle Min',\n",
              "       ' Label'],\n",
              "      dtype='object')"
            ]
          },
          "metadata": {},
          "execution_count": 14
        },
        {
          "output_type": "stream",
          "name": "stdout",
          "text": [
            "time: 8.18 ms (started: 2022-03-29 14:15:43 +00:00)\n"
          ]
        }
      ]
    },
    {
      "cell_type": "code",
      "source": [
        "#Eliminando espacios en blanco en el nombre de cada columna\n",
        "new_dataframe.columns = new_dataframe.columns.str.strip()"
      ],
      "metadata": {
        "execution": {
          "iopub.status.busy": "2022-03-01T04:53:54.194160Z",
          "iopub.execute_input": "2022-03-01T04:53:54.194408Z",
          "iopub.status.idle": "2022-03-01T04:53:54.199597Z",
          "shell.execute_reply.started": "2022-03-01T04:53:54.194377Z",
          "shell.execute_reply": "2022-03-01T04:53:54.198758Z"
        },
        "trusted": true,
        "id": "hYdHzeWX_yNS",
        "colab": {
          "base_uri": "https://localhost:8080/"
        },
        "outputId": "0fba55f2-7b76-4f70-b989-b41e86be05b1"
      },
      "execution_count": null,
      "outputs": [
        {
          "output_type": "stream",
          "name": "stdout",
          "text": [
            "time: 1.96 ms (started: 2022-03-29 14:15:43 +00:00)\n"
          ]
        }
      ]
    },
    {
      "cell_type": "code",
      "source": [
        "#Mostrando las columnas del dataset\n",
        "new_dataframe.columns"
      ],
      "metadata": {
        "execution": {
          "iopub.status.busy": "2022-03-01T04:53:54.203359Z",
          "iopub.execute_input": "2022-03-01T04:53:54.203686Z",
          "iopub.status.idle": "2022-03-01T04:53:54.209356Z",
          "shell.execute_reply.started": "2022-03-01T04:53:54.203654Z",
          "shell.execute_reply": "2022-03-01T04:53:54.208624Z"
        },
        "trusted": true,
        "id": "i6yZVgHx_yNT",
        "colab": {
          "base_uri": "https://localhost:8080/"
        },
        "outputId": "34d101da-8afc-4902-ccc3-64a180aa8981"
      },
      "execution_count": null,
      "outputs": [
        {
          "output_type": "execute_result",
          "data": {
            "text/plain": [
              "Index(['Destination Port', 'Flow Duration', 'Total Fwd Packets',\n",
              "       'Total Backward Packets', 'Total Length of Fwd Packets',\n",
              "       'Total Length of Bwd Packets', 'Fwd Packet Length Max',\n",
              "       'Fwd Packet Length Min', 'Fwd Packet Length Mean',\n",
              "       'Fwd Packet Length Std', 'Bwd Packet Length Max',\n",
              "       'Bwd Packet Length Min', 'Bwd Packet Length Mean',\n",
              "       'Bwd Packet Length Std', 'Flow Bytes/s', 'Flow Packets/s',\n",
              "       'Flow IAT Mean', 'Flow IAT Std', 'Flow IAT Max', 'Flow IAT Min',\n",
              "       'Fwd IAT Total', 'Fwd IAT Mean', 'Fwd IAT Std', 'Fwd IAT Max',\n",
              "       'Fwd IAT Min', 'Bwd IAT Total', 'Bwd IAT Mean', 'Bwd IAT Std',\n",
              "       'Bwd IAT Max', 'Bwd IAT Min', 'Fwd PSH Flags', 'Bwd PSH Flags',\n",
              "       'Fwd URG Flags', 'Bwd URG Flags', 'Fwd Header Length',\n",
              "       'Bwd Header Length', 'Fwd Packets/s', 'Bwd Packets/s',\n",
              "       'Min Packet Length', 'Max Packet Length', 'Packet Length Mean',\n",
              "       'Packet Length Std', 'Packet Length Variance', 'FIN Flag Count',\n",
              "       'SYN Flag Count', 'RST Flag Count', 'PSH Flag Count', 'ACK Flag Count',\n",
              "       'URG Flag Count', 'CWE Flag Count', 'ECE Flag Count', 'Down/Up Ratio',\n",
              "       'Average Packet Size', 'Avg Fwd Segment Size', 'Avg Bwd Segment Size',\n",
              "       'Fwd Header Length.1', 'Fwd Avg Bytes/Bulk', 'Fwd Avg Packets/Bulk',\n",
              "       'Fwd Avg Bulk Rate', 'Bwd Avg Bytes/Bulk', 'Bwd Avg Packets/Bulk',\n",
              "       'Bwd Avg Bulk Rate', 'Subflow Fwd Packets', 'Subflow Fwd Bytes',\n",
              "       'Subflow Bwd Packets', 'Subflow Bwd Bytes', 'Init_Win_bytes_forward',\n",
              "       'Init_Win_bytes_backward', 'act_data_pkt_fwd', 'min_seg_size_forward',\n",
              "       'Active Mean', 'Active Std', 'Active Max', 'Active Min', 'Idle Mean',\n",
              "       'Idle Std', 'Idle Max', 'Idle Min', 'Label'],\n",
              "      dtype='object')"
            ]
          },
          "metadata": {},
          "execution_count": 16
        },
        {
          "output_type": "stream",
          "name": "stdout",
          "text": [
            "time: 6.23 ms (started: 2022-03-29 14:15:43 +00:00)\n"
          ]
        }
      ]
    },
    {
      "cell_type": "code",
      "source": [
        "#Información sobre el dataset\n",
        "new_dataframe.info()"
      ],
      "metadata": {
        "execution": {
          "iopub.status.busy": "2022-03-01T04:53:54.210767Z",
          "iopub.execute_input": "2022-03-01T04:53:54.211328Z",
          "iopub.status.idle": "2022-03-01T04:53:54.239359Z",
          "shell.execute_reply.started": "2022-03-01T04:53:54.211235Z",
          "shell.execute_reply": "2022-03-01T04:53:54.238694Z"
        },
        "trusted": true,
        "id": "s0eKUMnF_yNU",
        "colab": {
          "base_uri": "https://localhost:8080/"
        },
        "outputId": "67032c27-b325-4432-ec93-d9d3b731cdb3"
      },
      "execution_count": null,
      "outputs": [
        {
          "output_type": "stream",
          "name": "stdout",
          "text": [
            "<class 'pandas.core.frame.DataFrame'>\n",
            "Int64Index: 225711 entries, 0 to 225744\n",
            "Data columns (total 79 columns):\n",
            " #   Column                       Non-Null Count   Dtype  \n",
            "---  ------                       --------------   -----  \n",
            " 0   Destination Port             225711 non-null  int64  \n",
            " 1   Flow Duration                225711 non-null  int64  \n",
            " 2   Total Fwd Packets            225711 non-null  int64  \n",
            " 3   Total Backward Packets       225711 non-null  int64  \n",
            " 4   Total Length of Fwd Packets  225711 non-null  int64  \n",
            " 5   Total Length of Bwd Packets  225711 non-null  int64  \n",
            " 6   Fwd Packet Length Max        225711 non-null  int64  \n",
            " 7   Fwd Packet Length Min        225711 non-null  int64  \n",
            " 8   Fwd Packet Length Mean       225711 non-null  float64\n",
            " 9   Fwd Packet Length Std        225711 non-null  float64\n",
            " 10  Bwd Packet Length Max        225711 non-null  int64  \n",
            " 11  Bwd Packet Length Min        225711 non-null  int64  \n",
            " 12  Bwd Packet Length Mean       225711 non-null  float64\n",
            " 13  Bwd Packet Length Std        225711 non-null  float64\n",
            " 14  Flow Bytes/s                 225711 non-null  float64\n",
            " 15  Flow Packets/s               225711 non-null  float64\n",
            " 16  Flow IAT Mean                225711 non-null  float64\n",
            " 17  Flow IAT Std                 225711 non-null  float64\n",
            " 18  Flow IAT Max                 225711 non-null  int64  \n",
            " 19  Flow IAT Min                 225711 non-null  int64  \n",
            " 20  Fwd IAT Total                225711 non-null  int64  \n",
            " 21  Fwd IAT Mean                 225711 non-null  float64\n",
            " 22  Fwd IAT Std                  225711 non-null  float64\n",
            " 23  Fwd IAT Max                  225711 non-null  int64  \n",
            " 24  Fwd IAT Min                  225711 non-null  int64  \n",
            " 25  Bwd IAT Total                225711 non-null  int64  \n",
            " 26  Bwd IAT Mean                 225711 non-null  float64\n",
            " 27  Bwd IAT Std                  225711 non-null  float64\n",
            " 28  Bwd IAT Max                  225711 non-null  int64  \n",
            " 29  Bwd IAT Min                  225711 non-null  int64  \n",
            " 30  Fwd PSH Flags                225711 non-null  int64  \n",
            " 31  Bwd PSH Flags                225711 non-null  int64  \n",
            " 32  Fwd URG Flags                225711 non-null  int64  \n",
            " 33  Bwd URG Flags                225711 non-null  int64  \n",
            " 34  Fwd Header Length            225711 non-null  int64  \n",
            " 35  Bwd Header Length            225711 non-null  int64  \n",
            " 36  Fwd Packets/s                225711 non-null  float64\n",
            " 37  Bwd Packets/s                225711 non-null  float64\n",
            " 38  Min Packet Length            225711 non-null  int64  \n",
            " 39  Max Packet Length            225711 non-null  int64  \n",
            " 40  Packet Length Mean           225711 non-null  float64\n",
            " 41  Packet Length Std            225711 non-null  float64\n",
            " 42  Packet Length Variance       225711 non-null  float64\n",
            " 43  FIN Flag Count               225711 non-null  int64  \n",
            " 44  SYN Flag Count               225711 non-null  int64  \n",
            " 45  RST Flag Count               225711 non-null  int64  \n",
            " 46  PSH Flag Count               225711 non-null  int64  \n",
            " 47  ACK Flag Count               225711 non-null  int64  \n",
            " 48  URG Flag Count               225711 non-null  int64  \n",
            " 49  CWE Flag Count               225711 non-null  int64  \n",
            " 50  ECE Flag Count               225711 non-null  int64  \n",
            " 51  Down/Up Ratio                225711 non-null  int64  \n",
            " 52  Average Packet Size          225711 non-null  float64\n",
            " 53  Avg Fwd Segment Size         225711 non-null  float64\n",
            " 54  Avg Bwd Segment Size         225711 non-null  float64\n",
            " 55  Fwd Header Length.1          225711 non-null  int64  \n",
            " 56  Fwd Avg Bytes/Bulk           225711 non-null  int64  \n",
            " 57  Fwd Avg Packets/Bulk         225711 non-null  int64  \n",
            " 58  Fwd Avg Bulk Rate            225711 non-null  int64  \n",
            " 59  Bwd Avg Bytes/Bulk           225711 non-null  int64  \n",
            " 60  Bwd Avg Packets/Bulk         225711 non-null  int64  \n",
            " 61  Bwd Avg Bulk Rate            225711 non-null  int64  \n",
            " 62  Subflow Fwd Packets          225711 non-null  int64  \n",
            " 63  Subflow Fwd Bytes            225711 non-null  int64  \n",
            " 64  Subflow Bwd Packets          225711 non-null  int64  \n",
            " 65  Subflow Bwd Bytes            225711 non-null  int64  \n",
            " 66  Init_Win_bytes_forward       225711 non-null  int64  \n",
            " 67  Init_Win_bytes_backward      225711 non-null  int64  \n",
            " 68  act_data_pkt_fwd             225711 non-null  int64  \n",
            " 69  min_seg_size_forward         225711 non-null  int64  \n",
            " 70  Active Mean                  225711 non-null  float64\n",
            " 71  Active Std                   225711 non-null  float64\n",
            " 72  Active Max                   225711 non-null  int64  \n",
            " 73  Active Min                   225711 non-null  int64  \n",
            " 74  Idle Mean                    225711 non-null  float64\n",
            " 75  Idle Std                     225711 non-null  float64\n",
            " 76  Idle Max                     225711 non-null  int64  \n",
            " 77  Idle Min                     225711 non-null  int64  \n",
            " 78  Label                        225711 non-null  int64  \n",
            "dtypes: float64(24), int64(55)\n",
            "memory usage: 137.8 MB\n",
            "time: 75.3 ms (started: 2022-03-29 14:15:43 +00:00)\n"
          ]
        }
      ]
    },
    {
      "cell_type": "code",
      "source": [
        "#Verificando la ausencia de valores nulos\n",
        "new_dataframe.isnull().sum()"
      ],
      "metadata": {
        "execution": {
          "iopub.status.busy": "2022-03-01T04:53:54.241277Z",
          "iopub.execute_input": "2022-03-01T04:53:54.241456Z",
          "iopub.status.idle": "2022-03-01T04:53:54.253807Z",
          "shell.execute_reply.started": "2022-03-01T04:53:54.241434Z",
          "shell.execute_reply": "2022-03-01T04:53:54.253056Z"
        },
        "trusted": true,
        "id": "OdQrEEfN_yNV",
        "colab": {
          "base_uri": "https://localhost:8080/"
        },
        "outputId": "9b520662-cd7e-4e9b-dd87-05a7ba789eb0"
      },
      "execution_count": null,
      "outputs": [
        {
          "output_type": "execute_result",
          "data": {
            "text/plain": [
              "Destination Port               0\n",
              "Flow Duration                  0\n",
              "Total Fwd Packets              0\n",
              "Total Backward Packets         0\n",
              "Total Length of Fwd Packets    0\n",
              "                              ..\n",
              "Idle Mean                      0\n",
              "Idle Std                       0\n",
              "Idle Max                       0\n",
              "Idle Min                       0\n",
              "Label                          0\n",
              "Length: 79, dtype: int64"
            ]
          },
          "metadata": {},
          "execution_count": 18
        },
        {
          "output_type": "stream",
          "name": "stdout",
          "text": [
            "time: 37.2 ms (started: 2022-03-29 14:15:43 +00:00)\n"
          ]
        }
      ]
    },
    {
      "cell_type": "code",
      "source": [
        "#Valores de entrada\n",
        "X.shape"
      ],
      "metadata": {
        "execution": {
          "iopub.status.busy": "2022-03-01T04:53:54.254992Z",
          "iopub.execute_input": "2022-03-01T04:53:54.255287Z",
          "iopub.status.idle": "2022-03-01T04:53:54.260619Z",
          "shell.execute_reply.started": "2022-03-01T04:53:54.255251Z",
          "shell.execute_reply": "2022-03-01T04:53:54.259882Z"
        },
        "trusted": true,
        "id": "n46JIYs4_yNV",
        "colab": {
          "base_uri": "https://localhost:8080/"
        },
        "outputId": "3f9cfeb0-a3b8-4876-f7bf-3868f90b29a7"
      },
      "execution_count": null,
      "outputs": [
        {
          "output_type": "execute_result",
          "data": {
            "text/plain": [
              "(225711, 78)"
            ]
          },
          "metadata": {},
          "execution_count": 19
        },
        {
          "output_type": "stream",
          "name": "stdout",
          "text": [
            "time: 6.86 ms (started: 2022-03-29 14:15:43 +00:00)\n"
          ]
        }
      ]
    },
    {
      "cell_type": "code",
      "source": [
        "#Valores de salida\n",
        "y.shape"
      ],
      "metadata": {
        "execution": {
          "iopub.status.busy": "2022-03-01T04:53:54.262059Z",
          "iopub.execute_input": "2022-03-01T04:53:54.262516Z",
          "iopub.status.idle": "2022-03-01T04:53:54.268831Z",
          "shell.execute_reply.started": "2022-03-01T04:53:54.262480Z",
          "shell.execute_reply": "2022-03-01T04:53:54.267973Z"
        },
        "trusted": true,
        "id": "jyYbdNKa_yNW",
        "colab": {
          "base_uri": "https://localhost:8080/"
        },
        "outputId": "7d375347-548e-404f-a588-903bbe8667b2"
      },
      "execution_count": null,
      "outputs": [
        {
          "output_type": "execute_result",
          "data": {
            "text/plain": [
              "(225711,)"
            ]
          },
          "metadata": {},
          "execution_count": 20
        },
        {
          "output_type": "stream",
          "name": "stdout",
          "text": [
            "time: 7.19 ms (started: 2022-03-29 14:15:43 +00:00)\n"
          ]
        }
      ]
    },
    {
      "cell_type": "markdown",
      "source": [
        "***Clasificación de Vectores de Soporte***\n"
      ],
      "metadata": {
        "id": "Lraw-5zo9a0Q"
      }
    },
    {
      "cell_type": "markdown",
      "source": [
        "***Clasificación de Vectores de Soporte - Hiperparámetros por default***"
      ],
      "metadata": {
        "id": "ZQEFrqbw97fL"
      }
    },
    {
      "cell_type": "code",
      "source": [
        "# Iniciando el clasificador con hiperparámetros por default\n",
        "svc=SVC() \n",
        "\n",
        "#seleccionando entrenamiento para valores de entrada y salida\n",
        "my_model_default=svc.fit(X_train,y_train)\n",
        "\n",
        "# Predicciones\n",
        "y_pred=svc.predict(X_test)"
      ],
      "metadata": {
        "execution": {
          "iopub.status.busy": "2022-03-01T04:53:54.270287Z",
          "iopub.execute_input": "2022-03-01T04:53:54.270738Z",
          "iopub.status.idle": "2022-03-01T04:54:44.663508Z",
          "shell.execute_reply.started": "2022-03-01T04:53:54.270703Z",
          "shell.execute_reply": "2022-03-01T04:54:44.661991Z"
        },
        "trusted": true,
        "id": "Q4lso2my_yNX",
        "colab": {
          "base_uri": "https://localhost:8080/"
        },
        "outputId": "0539f788-b018-406f-c417-e4acfc382a96"
      },
      "execution_count": null,
      "outputs": [
        {
          "output_type": "stream",
          "name": "stdout",
          "text": [
            "time: 33min 28s (started: 2022-03-29 14:15:43 +00:00)\n"
          ]
        }
      ]
    },
    {
      "cell_type": "code",
      "source": [
        "\n",
        "#Mostrando la precisión\n",
        "print('Puntuación de precisión del modelo con hiperparámetros por defecto: {0:0.4f}'. format(accuracy_score(y_test, y_pred)))\n",
        "#Mostrando el reporte \n",
        "print(classification_report(y_test, y_pred))"
      ],
      "metadata": {
        "execution": {
          "iopub.status.busy": "2022-03-01T04:54:44.664964Z",
          "iopub.execute_input": "2022-03-01T04:54:44.665209Z",
          "iopub.status.idle": "2022-03-01T04:54:44.688212Z",
          "shell.execute_reply.started": "2022-03-01T04:54:44.665175Z",
          "shell.execute_reply": "2022-03-01T04:54:44.687524Z"
        },
        "trusted": true,
        "id": "OjwuXtQi_yNX",
        "colab": {
          "base_uri": "https://localhost:8080/"
        },
        "outputId": "cb7fc6f5-2efc-4a37-cf1a-d32286ef1a66"
      },
      "execution_count": null,
      "outputs": [
        {
          "output_type": "stream",
          "name": "stdout",
          "text": [
            "Puntuación de precisión del modelo con hiperparámetros por defecto: 0.9356\n",
            "              precision    recall  f1-score   support\n",
            "\n",
            "           0       0.93      0.96      0.94     32141\n",
            "           1       0.94      0.91      0.92     24287\n",
            "\n",
            "    accuracy                           0.94     56428\n",
            "   macro avg       0.94      0.93      0.93     56428\n",
            "weighted avg       0.94      0.94      0.94     56428\n",
            "\n",
            "time: 128 ms (started: 2022-03-29 14:49:12 +00:00)\n"
          ]
        }
      ]
    },
    {
      "cell_type": "code",
      "source": [
        "#Generando los valores para la matriz de confusión\n",
        "y_pred=my_model_default.predict(X_test)\n",
        "y_true=y_test\n",
        "cm=confusion_matrix(y_true,y_pred)\n",
        "\n",
        "#Graficando la matriz \n",
        "f, ax=plt.subplots(figsize=(5,5))\n",
        "sns.heatmap(cm,annot=True,linewidths=0.5,linecolor=\"red\",fmt=\".0f\",ax=ax)\n",
        "plt.xlabel(\"Valores de prueba de Y\")\n",
        "plt.ylabel(\"Valores verdaderos de Y\")\n",
        "plt.title(\"Matriz de confusión para clasificador con vectores de soporte - Parámetros por defecto\")\n",
        "plt.show()"
      ],
      "metadata": {
        "execution": {
          "iopub.status.busy": "2022-03-01T04:54:44.689316Z",
          "iopub.execute_input": "2022-03-01T04:54:44.689947Z",
          "iopub.status.idle": "2022-03-01T04:54:55.010314Z",
          "shell.execute_reply.started": "2022-03-01T04:54:44.689921Z",
          "shell.execute_reply": "2022-03-01T04:54:55.009652Z"
        },
        "trusted": true,
        "id": "vNEKMZg9_yNY",
        "colab": {
          "base_uri": "https://localhost:8080/",
          "height": 367
        },
        "outputId": "996f4965-3842-41a1-9b45-7c7466efb175"
      },
      "execution_count": null,
      "outputs": [
        {
          "output_type": "display_data",
          "data": {
            "text/plain": [
              "<Figure size 360x360 with 2 Axes>"
            ],
            "image/png": "[encoded data removed]"
          },
          "metadata": {
            "needs_background": "light"
          }
        },
        {
          "output_type": "stream",
          "name": "stdout",
          "text": [
            "time: 5min (started: 2022-03-29 14:49:12 +00:00)\n"
          ]
        }
      ]
    },
    {
      "cell_type": "markdown",
      "source": [
        "***Clasificación de Vectores de Soporte - Kernel RBF y C=100 ***"
      ],
      "metadata": {
        "id": "iFtPSJPQ9oZw"
      }
    },
    {
      "cell_type": "code",
      "source": [
        "# Iniciando el clasificador con un kernel RBF y C=100 \n",
        "svc=SVC(C=100.0) \n",
        "\n",
        "#seleccionando entrenamiento para valores de entrada y salida\n",
        "my_model_100=svc.fit(X_train,y_train)\n",
        "\n",
        "#Generando predicciones\n",
        "y_pred=svc.predict(X_test)\n",
        "\n",
        "#Mostrando la precisión\n",
        "print('Model accuracy score with rbf kernel and C=100.0 : {0:0.4f}'. format(accuracy_score(y_test, y_pred)))\n",
        "print(classification_report(y_test, y_pred))"
      ],
      "metadata": {
        "execution": {
          "iopub.status.busy": "2022-03-01T04:54:55.011666Z",
          "iopub.execute_input": "2022-03-01T04:54:55.012137Z",
          "iopub.status.idle": "2022-03-01T04:55:31.073637Z",
          "shell.execute_reply.started": "2022-03-01T04:54:55.012101Z",
          "shell.execute_reply": "2022-03-01T04:55:31.072859Z"
        },
        "trusted": true,
        "id": "x-kAIDPu_yNZ",
        "colab": {
          "base_uri": "https://localhost:8080/"
        },
        "outputId": "760e468e-fa7e-4e96-a481-50145d713944"
      },
      "execution_count": null,
      "outputs": [
        {
          "output_type": "stream",
          "name": "stdout",
          "text": [
            "Model accuracy score with rbf kernel and C=100.0 : 0.9601\n",
            "              precision    recall  f1-score   support\n",
            "\n",
            "           0       0.96      0.97      0.97     32141\n",
            "           1       0.96      0.94      0.95     24287\n",
            "\n",
            "    accuracy                           0.96     56428\n",
            "   macro avg       0.96      0.96      0.96     56428\n",
            "weighted avg       0.96      0.96      0.96     56428\n",
            "\n",
            "time: 17min 56s (started: 2022-03-29 14:54:13 +00:00)\n"
          ]
        }
      ]
    },
    {
      "cell_type": "code",
      "source": [
        "#Generando los valores para la matriz de confusión\n",
        "y_pred=my_model_100.predict(X_test)\n",
        "y_true=y_test\n",
        "cm=confusion_matrix(y_true,y_pred)\n",
        "\n",
        "#Graficando la matriz \n",
        "f, ax=plt.subplots(figsize=(5,5))\n",
        "sns.heatmap(cm,annot=True,linewidths=0.5,linecolor=\"red\",fmt=\".0f\",ax=ax)\n",
        "plt.xlabel(\"Valores de prueba de Y\")\n",
        "plt.ylabel(\"Valores verdaderos de Y\")\n",
        "plt.title(\"Matriz de confusión para clasificador con vectores de soporte - C=100\")\n",
        "plt.show()"
      ],
      "metadata": {
        "execution": {
          "iopub.status.busy": "2022-03-01T04:55:31.099937Z",
          "iopub.execute_input": "2022-03-01T04:55:31.100211Z",
          "iopub.status.idle": "2022-03-01T04:55:37.941802Z",
          "shell.execute_reply.started": "2022-03-01T04:55:31.100152Z",
          "shell.execute_reply": "2022-03-01T04:55:37.941147Z"
        },
        "trusted": true,
        "id": "XB3EMhOF_yNa",
        "colab": {
          "base_uri": "https://localhost:8080/",
          "height": 367
        },
        "outputId": "be5a8c0f-e33a-40e1-dd4c-58b2f4daaa94"
      },
      "execution_count": null,
      "outputs": [
        {
          "output_type": "display_data",
          "data": {
            "text/plain": [
              "<Figure size 360x360 with 2 Axes>"
            ],
            "image/png": "[encoded data removed]"
          },
          "metadata": {
            "needs_background": "light"
          }
        },
        {
          "output_type": "stream",
          "name": "stdout",
          "text": [
            "time: 2min 51s (started: 2022-03-29 15:12:09 +00:00)\n"
          ]
        }
      ]
    },
    {
      "cell_type": "markdown",
      "source": [
        "***Clasificación de Vectores de Soporte - Kernel RBF y C=1000 ***\n",
        "\n"
      ],
      "metadata": {
        "id": "Xlw5JARM9t-g"
      }
    },
    {
      "cell_type": "code",
      "source": [
        "# Iniciando el clasificador con un kernel RBF y C=1000 \n",
        "svc=SVC(C=1000.0) \n",
        "\n",
        "#seleccionando entrenamiento para valores de entrada y salida\n",
        "my_model_1000=svc.fit(X_train,y_train)\n",
        "\n",
        "#Generando predicciones\n",
        "y_pred=svc.predict(X_test)\n",
        "\n",
        "#Mostrando la precisión\n",
        "print('Model accuracy score with rbf kernel and C=1000.0 : {0:0.4f}'. format(accuracy_score(y_test, y_pred)))\n",
        "print(classification_report(y_test, y_pred))"
      ],
      "metadata": {
        "execution": {
          "iopub.status.busy": "2022-03-01T04:55:37.943075Z",
          "iopub.execute_input": "2022-03-01T04:55:37.943480Z",
          "iopub.status.idle": "2022-03-01T04:56:08.666526Z",
          "shell.execute_reply.started": "2022-03-01T04:55:37.943441Z",
          "shell.execute_reply": "2022-03-01T04:56:08.665046Z"
        },
        "trusted": true,
        "id": "24oz8MlG_yNa",
        "colab": {
          "base_uri": "https://localhost:8080/"
        },
        "outputId": "174805bc-b009-40f3-a9f0-b2a0802a5887"
      },
      "execution_count": null,
      "outputs": [
        {
          "output_type": "stream",
          "name": "stdout",
          "text": [
            "Model accuracy score with rbf kernel and C=1000.0 : 0.9859\n",
            "              precision    recall  f1-score   support\n",
            "\n",
            "           0       1.00      0.98      0.99     32141\n",
            "           1       0.97      1.00      0.98     24287\n",
            "\n",
            "    accuracy                           0.99     56428\n",
            "   macro avg       0.98      0.99      0.99     56428\n",
            "weighted avg       0.99      0.99      0.99     56428\n",
            "\n",
            "time: 13min 2s (started: 2022-03-29 15:15:00 +00:00)\n"
          ]
        }
      ]
    },
    {
      "cell_type": "code",
      "source": [
        "#confusion matrix visualization\n",
        "y_pred=my_model_1000.predict(X_test)\n",
        "y_true=y_test\n",
        "\n",
        "#Graficando la matriz \n",
        "cm=confusion_matrix(y_true,y_pred)\n",
        "f, ax=plt.subplots(figsize=(5,5))\n",
        "sns.heatmap(cm,annot=True,linewidths=0.5,linecolor=\"red\",fmt=\".0f\",ax=ax)\n",
        "plt.xlabel(\"Valores de prueba de Y\")\n",
        "plt.ylabel(\"Valores verdaderos de Y\")\n",
        "plt.title(\"Matriz de confusión para clasificador con vectores de soporte - C=1000\")\n",
        "plt.show()"
      ],
      "metadata": {
        "execution": {
          "iopub.status.busy": "2022-03-01T04:56:08.694447Z",
          "iopub.execute_input": "2022-03-01T04:56:08.694887Z",
          "iopub.status.idle": "2022-03-01T04:56:13.516846Z",
          "shell.execute_reply.started": "2022-03-01T04:56:08.694851Z",
          "shell.execute_reply": "2022-03-01T04:56:13.516170Z"
        },
        "trusted": true,
        "id": "0S3qZVMB_yNb",
        "colab": {
          "base_uri": "https://localhost:8080/",
          "height": 367
        },
        "outputId": "38caad9e-bebc-40a8-8f82-7a85641deff1"
      },
      "execution_count": null,
      "outputs": [
        {
          "output_type": "display_data",
          "data": {
            "text/plain": [
              "<Figure size 360x360 with 2 Axes>"
            ],
            "image/png": "[encoded data removed]"
          },
          "metadata": {
            "needs_background": "light"
          }
        },
        {
          "output_type": "stream",
          "name": "stdout",
          "text": [
            "time: 1min 35s (started: 2022-03-29 15:28:03 +00:00)\n"
          ]
        }
      ]
    },
    {
      "cell_type": "markdown",
      "source": [
        ""
      ],
      "metadata": {
        "id": "yDs8_hGp_Yyf"
      }
    }
  ]
}